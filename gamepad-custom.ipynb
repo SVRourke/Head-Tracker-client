{
 "cells": [
  {
   "cell_type": "code",
   "execution_count": null,
   "metadata": {},
   "outputs": [],
   "source": [
    "from lib.gamepad import Controller\n",
    "controller = Controller()"
   ]
  },
  {
   "cell_type": "code",
   "execution_count": null,
   "metadata": {},
   "outputs": [],
   "source": [
    "packet = [1000, 1000, 1000]\n",
    "controller.update(packet)"
   ]
  },
  {
   "cell_type": "code",
   "execution_count": null,
   "metadata": {},
   "outputs": [],
   "source": [
    "from random import randrange\n",
    "from time import sleep\n",
    "count = 0\n",
    "while count < 100:\n",
    "    count += 1\n",
    "    controller.update([\n",
    "        randrange(-32768, 32767),\n",
    "        randrange(-32768, 32767),\n",
    "        randrange(-32768, 32767)\n",
    "    ])\n",
    "    sleep(.5)\n",
    "    print(F\"UPDATE {count}\")"
   ]
  },
  {
   "cell_type": "code",
   "execution_count": null,
   "metadata": {},
   "outputs": [],
   "source": [
    "sleep(2)\n",
    "controller.update([30000, 15000, 1000])"
   ]
  },
  {
   "cell_type": "code",
   "execution_count": null,
   "metadata": {},
   "outputs": [],
   "source": []
  }
 ],
 "metadata": {
  "interpreter": {
   "hash": "2281fcdd05039b437ffa05d797f6e68b4c10063d4762408bbd6a5b41be5bfd05"
  },
  "kernelspec": {
   "display_name": "Python 3.10.0 64-bit",
   "name": "python3"
  },
  "language_info": {
   "codemirror_mode": {
    "name": "ipython",
    "version": 3
   },
   "file_extension": ".py",
   "mimetype": "text/x-python",
   "name": "python",
   "nbconvert_exporter": "python",
   "pygments_lexer": "ipython3",
   "version": "3.10.0"
  },
  "orig_nbformat": 4
 },
 "nbformat": 4,
 "nbformat_minor": 2
}
