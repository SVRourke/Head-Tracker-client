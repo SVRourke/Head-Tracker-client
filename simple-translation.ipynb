{
 "cells": [
  {
   "cell_type": "code",
   "execution_count": null,
   "metadata": {},
   "outputs": [],
   "source": [
    "import serial\n",
    "import serial.tools.list_ports\n",
    "import vgamepad as vg"
   ]
  },
  {
   "cell_type": "code",
   "execution_count": null,
   "metadata": {},
   "outputs": [],
   "source": [
    "ports = [i for i in serial.tools.list_ports.comports()]\n",
    "for port in ports: print(port)"
   ]
  },
  {
   "cell_type": "code",
   "execution_count": null,
   "metadata": {},
   "outputs": [],
   "source": [
    "sensor = serial.Serial('COM3', 9600, timeout=1)"
   ]
  },
  {
   "cell_type": "code",
   "execution_count": null,
   "metadata": {},
   "outputs": [],
   "source": [
    "gamepad = vg.VX360Gamepad()"
   ]
  },
  {
   "cell_type": "code",
   "execution_count": null,
   "metadata": {},
   "outputs": [],
   "source": [
    "def updateController(packet):\n",
    "    gamepad.left_joystick(x_value=int(packet[0]), y_value=int(packet[1]))\n",
    "    gamepad.update()"
   ]
  },
  {
   "cell_type": "code",
   "execution_count": null,
   "metadata": {},
   "outputs": [],
   "source": [
    "while True:\n",
    "    packet = sensor.readline().strip().decode(\"ascii\").split(\"\\t\")\n",
    "    updateController(packet)"
   ]
  },
  {
   "cell_type": "code",
   "execution_count": null,
   "metadata": {},
   "outputs": [],
   "source": [
    "sensor.close()"
   ]
  }
 ],
 "metadata": {
  "interpreter": {
   "hash": "e9a199a4c3b90f4c8721abbc819c61e2a44380fe215715dcf8a29fa451c5e1ad"
  },
  "kernelspec": {
   "display_name": "Python 3.8.9 64-bit ('env': venv)",
   "name": "python3"
  },
  "language_info": {
   "codemirror_mode": {
    "name": "ipython",
    "version": 3
   },
   "file_extension": ".py",
   "mimetype": "text/x-python",
   "name": "python",
   "nbconvert_exporter": "python",
   "pygments_lexer": "ipython3",
   "version": "3.8.9"
  },
  "orig_nbformat": 4
 },
 "nbformat": 4,
 "nbformat_minor": 2
}
